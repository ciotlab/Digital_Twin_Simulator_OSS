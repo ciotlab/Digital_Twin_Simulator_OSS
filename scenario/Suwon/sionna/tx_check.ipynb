{
 "cells": [
  {
   "cell_type": "code",
   "execution_count": null,
   "metadata": {},
   "outputs": [],
   "source": [
    "import os\n",
    "gpu_num = 0 # Use \"\" to use the CPU\n",
    "os.environ[\"CUDA_VISIBLE_DEVICES\"] = f\"{gpu_num}\"\n",
    "os.environ['TF_CPP_MIN_LOG_LEVEL'] = '3'\n",
    "\n",
    "# Colab does currently not support the latest version of ipython.\n",
    "# Thus, the preview does not work in Colab. However, whenever possible we \n",
    "# strongly recommend to use the scene preview mode.\n",
    "try: # detect if the notebook runs in Colab\n",
    "    import google.colab\n",
    "    colab_compat = True # deactivate preview\n",
    "except:\n",
    "    colab_compat = False\n",
    "resolution = [480,320] # increase for higher quality of renderings\n",
    "\n",
    "# Allows to exit cell execution in Jupyter\n",
    "class ExitCell(Exception):\n",
    "    def _render_traceback_(self):\n",
    "        pass\n",
    "\n",
    "# Import Sionna\n",
    "try:\n",
    "    import sionna\n",
    "except ImportError as e:\n",
    "    # Install Sionna if package is not already installed\n",
    "    import os\n",
    "    os.system(\"pip install sionna\")\n",
    "    import sionna\n",
    "\n",
    "# Configure the notebook to use only a single GPU and allocate only as much memory as needed\n",
    "# For more details, see https://www.tensorflow.org/guide/gpu\n",
    "import tensorflow as tf\n",
    "gpus = tf.config.list_physical_devices('GPU')\n",
    "if gpus:\n",
    "    try:\n",
    "        tf.config.experimental.set_memory_growth(gpus[0], True)\n",
    "    except RuntimeError as e:\n",
    "        print(e) \n",
    "# Avoid warnings from TensorFlow\n",
    "tf.get_logger().setLevel('ERROR')\n",
    "\n",
    "tf.random.set_seed(1) # Set global random seed for reproducibility"
   ]
  },
  {
   "cell_type": "code",
   "execution_count": null,
   "metadata": {},
   "outputs": [],
   "source": [
    "from sionna.rt import load_scene, Transmitter, Receiver, PlanarArray"
   ]
  },
  {
   "cell_type": "code",
   "execution_count": null,
   "metadata": {},
   "outputs": [],
   "source": [
    "scene = load_scene(\"./SW.xml\")"
   ]
  },
  {
   "cell_type": "code",
   "execution_count": null,
   "metadata": {},
   "outputs": [],
   "source": [
    "scene.tx_array = PlanarArray(num_rows=1, \n",
    "                        num_cols=1,\n",
    "                        vertical_spacing=0.5,\n",
    "                        horizontal_spacing=0.5,\n",
    "                        pattern=\"tr38901\",\n",
    "                        polarization=\"V\")\n",
    "\n",
    "tx1 = Transmitter(name=\"tx1\", position=[203, 25, -18], orientation=[0, 0, 0])\n",
    "tx2 = Transmitter(name=\"tx2\", position=[-328, 25, 326], orientation=[0, 0, 0])\n",
    "tx3 = Transmitter(name=\"tx3\", position=[445, 25, 209], orientation=[0, 0, 0])\n",
    "tx4 = Transmitter(name=\"tx4\", position=[590, 25, -285], orientation=[0, 0, 0])\n",
    "scene.add(tx1)\n",
    "scene.add(tx2)\n",
    "scene.add(tx3)\n",
    "scene.add(tx4)"
   ]
  },
  {
   "cell_type": "code",
   "execution_count": null,
   "metadata": {},
   "outputs": [],
   "source": [
    "scene.preview()"
   ]
  },
  {
   "cell_type": "code",
   "execution_count": null,
   "metadata": {},
   "outputs": [],
   "source": []
  }
 ],
 "metadata": {
  "kernelspec": {
   "display_name": "Python 3",
   "language": "python",
   "name": "python3"
  },
  "language_info": {
   "codemirror_mode": {
    "name": "ipython",
    "version": 3
   },
   "file_extension": ".py",
   "mimetype": "text/x-python",
   "name": "python",
   "nbconvert_exporter": "python",
   "pygments_lexer": "ipython3",
   "version": "3.10.13"
  },
  "orig_nbformat": 4
 },
 "nbformat": 4,
 "nbformat_minor": 2
}
